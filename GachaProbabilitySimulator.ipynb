{
 "cells": [
  {
   "cell_type": "code",
   "execution_count": 4,
   "id": "02b660d5",
   "metadata": {},
   "outputs": [
    {
     "data": {
      "application/vnd.jupyter.widget-view+json": {
       "model_id": "b61e67a5dc7344b1979c9e574ba0306d",
       "version_major": 2,
       "version_minor": 0
      },
      "text/plain": [
       "interactive(children=(IntSlider(value=1, description='starting_pity', max=89, min=1), Output()), _dom_classes=…"
      ]
     },
     "metadata": {},
     "output_type": "display_data"
    },
    {
     "data": {
      "text/plain": [
       "<function __main__.plot_probability(starting_pity)>"
      ]
     },
     "execution_count": 4,
     "metadata": {},
     "output_type": "execute_result"
    }
   ],
   "source": [
    "\"\"\"\n",
    "Data source: https://gachaguide.com/genshin_probabilities\n",
    "\"\"\"\n",
    "\n",
    "import matplotlib.pyplot as plt\n",
    "import numpy as np\n",
    "from ipywidgets import interact, IntSlider\n",
    "import functools\n",
    "\n",
    "pity_prob = {}\n",
    "pity_prob[1] = 0.006\n",
    "for i in range(2, 74):\n",
    "    pity_prob[i] = 0.006\n",
    "pity_prob[74] = 0.064\n",
    "pity_prob[75] = 0.122\n",
    "pity_prob[76] = 0.181\n",
    "pity_prob[77] = 0.239\n",
    "pity_prob[78] = 0.298\n",
    "pity_prob[79] = 0.356\n",
    "pity_prob[80] = 0.415\n",
    "pity_prob[81] = 0.473\n",
    "pity_prob[82] = 0.532\n",
    "pity_prob[83] = 0.590\n",
    "pity_prob[84] = 0.649\n",
    "pity_prob[85] = 0.707\n",
    "pity_prob[86] = 0.766\n",
    "pity_prob[87] = 0.824\n",
    "pity_prob[88] = 0.883\n",
    "pity_prob[89] = 0.941\n",
    "pity_prob[90] = 1.000\n",
    "\n",
    "@functools.lru_cache(maxsize=None)\n",
    "def probability_at_least_one(x, pulls):\n",
    "    if pulls == 0:\n",
    "        return 0.0\n",
    "    if x >= 90:\n",
    "        return 1.0\n",
    "    p = pity_prob.get(x, 1.0)\n",
    "    return p + (1 - p) * probability_at_least_one(x + 1, pulls - 1)\n",
    "\n",
    "def plot_probability(starting_pity):\n",
    "    max_pulls = 90 - starting_pity\n",
    "    pulls_range = np.arange(0, max_pulls + 1)\n",
    "    probabilities = [probability_at_least_one(starting_pity, pulls) for pulls in pulls_range]\n",
    "    plt.figure(figsize=(10, 6))\n",
    "    plt.plot(pulls_range, probabilities, marker='o')\n",
    "    plt.xlabel('Number of pulls after pity = {}'.format(starting_pity))\n",
    "    plt.ylabel('Probability of at least one 5-star')\n",
    "    plt.title('Probability of Getting at Least One 5-Star (Starting Pity = {})'.format(starting_pity))\n",
    "    plt.grid(True)\n",
    "    plt.ylim(0, 1.05)\n",
    "    plt.show()\n",
    "\n",
    "interact(plot_probability, starting_pity=IntSlider(min=1, max=89, step=1, value=1))\n"
   ]
  }
 ],
 "metadata": {
  "kernelspec": {
   "display_name": "Python 3 (ipykernel)",
   "language": "python",
   "name": "python3"
  },
  "language_info": {
   "codemirror_mode": {
    "name": "ipython",
    "version": 3
   },
   "file_extension": ".py",
   "mimetype": "text/x-python",
   "name": "python",
   "nbconvert_exporter": "python",
   "pygments_lexer": "ipython3",
   "version": "3.9.13"
  }
 },
 "nbformat": 4,
 "nbformat_minor": 5
}
